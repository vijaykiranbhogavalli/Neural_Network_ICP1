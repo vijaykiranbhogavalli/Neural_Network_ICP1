{
  "nbformat": 4,
  "nbformat_minor": 0,
  "metadata": {
    "colab": {
      "provenance": []
    },
    "kernelspec": {
      "name": "python3",
      "display_name": "Python 3"
    },
    "language_info": {
      "name": "python"
    }
  },
  "cells": [
    {
      "cell_type": "code",
      "execution_count": 3,
      "metadata": {
        "id": "iz5eVTSFDIKg",
        "colab": {
          "base_uri": "https://localhost:8080/"
        },
        "outputId": "000480a2-c9bc-4716-bce2-fb5117979899"
      },
      "outputs": [
        {
          "output_type": "stream",
          "name": "stdout",
          "text": [
            "Enter the string 'Python': python\n",
            "Reversed string: noht\n"
          ]
        }
      ],
      "source": [
        "a= list(input(\"Enter the string 'Python': \"))\n",
        "if len(a) >= 2:\n",
        "    del a[0:2]\n",
        "else:\n",
        "    print(\"Input string is too short to delete 2 characters.\")\n",
        "\n",
        "a.reverse()\n",
        "print(\"Reversed string:\", ''.join(a))\n"
      ]
    },
    {
      "cell_type": "code",
      "source": [
        "a= int(input(\"Enter the first number: \"))\n",
        "b= int(input(\"Enter the second number: \"))\n",
        "\n",
        "print(\"Addition:\", a+b)\n",
        "print(\"Subtraction:\", a-b)\n",
        "print(\"Multiplication:\",a*b)\n",
        "print(\"Division:\", a/b)\n"
      ],
      "metadata": {
        "colab": {
          "base_uri": "https://localhost:8080/"
        },
        "id": "ye7v_hfOIjuJ",
        "outputId": "afe457c4-3c0a-4180-e691-cd42c130082b"
      },
      "execution_count": 4,
      "outputs": [
        {
          "output_type": "stream",
          "name": "stdout",
          "text": [
            "Enter the first number: 58\n",
            "Enter the second number: 2\n",
            "Addition: 60\n",
            "Subtraction: 56\n",
            "Multiplication: 116\n",
            "Division: 29.0\n"
          ]
        }
      ]
    },
    {
      "cell_type": "code",
      "source": [
        "a= input(\"Input a  sentence: \")\n",
        "b=a.replace('python', 'pythons')\n",
        "print(\"Modified sentence:\",b)\n"
      ],
      "metadata": {
        "id": "oUNGUiDNJeG3",
        "colab": {
          "base_uri": "https://localhost:8080/"
        },
        "outputId": "abd2dac4-641a-4852-b500-0813b538a118"
      },
      "execution_count": 5,
      "outputs": [
        {
          "output_type": "stream",
          "name": "stdout",
          "text": [
            "Input a  sentence: i love python\n",
            "Modified sentence: i love pythons\n"
          ]
        }
      ]
    },
    {
      "cell_type": "code",
      "source": [
        "score = float(input(\"Enter the marks : \"))\n",
        "if 90 <= score <= 100:\n",
        "    grade = 'A'\n",
        "elif 80 <= score < 90:\n",
        "    grade = 'B'\n",
        "elif 70 <= score < 80:\n",
        "    grade = 'C'\n",
        "elif 60 <= score < 70:\n",
        "    grade = 'D'\n",
        "elif 0 <= score < 60:\n",
        "    grade = 'F'\n",
        "else:\n",
        "    grade = 'Invalid score'\n",
        "\n",
        "print(\"Your grade is:\", grade)"
      ],
      "metadata": {
        "colab": {
          "base_uri": "https://localhost:8080/"
        },
        "id": "KphIOKAVjDfx",
        "outputId": "a2520325-63ee-499c-f59f-6aa005db61b8"
      },
      "execution_count": 6,
      "outputs": [
        {
          "output_type": "stream",
          "name": "stdout",
          "text": [
            "Enter the marks : 89\n",
            "Your grade is: B\n"
          ]
        }
      ]
    }
  ]
}